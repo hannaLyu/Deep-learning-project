{
  "nbformat": 4,
  "nbformat_minor": 0,
  "metadata": {
    "kernelspec": {
      "name": "python3",
      "display_name": "Python 3"
    },
    "language_info": {
      "codemirror_mode": {
        "name": "ipython",
        "version": 3
      },
      "file_extension": ".py",
      "mimetype": "text/x-python",
      "name": "python",
      "nbconvert_exporter": "python",
      "pygments_lexer": "ipython3",
      "version": "3.7.4"
    },
    "colab": {
      "name": "Segmentation.ipynb",
      "provenance": [],
      "machine_shape": "hm"
    },
    "accelerator": "GPU"
  },
  "cells": [
    {
      "cell_type": "code",
      "metadata": {
        "id": "S1ZV5D1jqfb5",
        "colab_type": "code",
        "colab": {}
      },
      "source": [
        "# import wget\n",
        "import os\n",
        "import glob\n",
        "import random\n",
        "import numpy as np\n",
        "import os,shutil\n",
        "import matplotlib \n",
        "import matplotlib.pyplot as plt\n",
        "from PIL import Image\n",
        "from skimage.io import imread\n",
        "import torch\n",
        "from torch.autograd import Variable\n",
        "import torch.nn as nn\n",
        "import torch.nn.functional as F\n",
        "from os import listdir\n",
        "from torch.utils.data import Dataset\n",
        "from skimage.transform import resize\n",
        "from IPython.display import clear_output\n",
        "import torchvision\n",
        "import torchvision.transforms as transforms\n"
      ],
      "execution_count": 0,
      "outputs": []
    },
    {
      "cell_type": "code",
      "metadata": {
        "id": "KN7TXISJqirE",
        "colab_type": "code",
        "colab": {
          "base_uri": "https://localhost:8080/",
          "height": 124
        },
        "outputId": "14b4de40-16e0-47a8-fda4-9a905ca875fc"
      },
      "source": [
        "from google.colab import drive\n",
        "drive.mount('/content/drive')"
      ],
      "execution_count": 3,
      "outputs": [
        {
          "output_type": "stream",
          "text": [
            "Go to this URL in a browser: https://accounts.google.com/o/oauth2/auth?client_id=947318989803-6bn6qk8qdgf4n4g3pfee6491hc0brc4i.apps.googleusercontent.com&redirect_uri=urn%3aietf%3awg%3aoauth%3a2.0%3aoob&response_type=code&scope=email%20https%3a%2f%2fwww.googleapis.com%2fauth%2fdocs.test%20https%3a%2f%2fwww.googleapis.com%2fauth%2fdrive%20https%3a%2f%2fwww.googleapis.com%2fauth%2fdrive.photos.readonly%20https%3a%2f%2fwww.googleapis.com%2fauth%2fpeopleapi.readonly\n",
            "\n",
            "Enter your authorization code:\n",
            "··········\n",
            "Mounted at /content/drive\n"
          ],
          "name": "stdout"
        }
      ]
    },
    {
      "cell_type": "code",
      "metadata": {
        "id": "R--uUAutqfcL",
        "colab_type": "code",
        "colab": {}
      },
      "source": [
        "newdir = '/content/drive/My Drive'\n",
        "\n",
        "mydir = newdir+os.sep+'Warwick QU Dataset (Released 2016_07_08)'\n",
        "pathDir =  os.listdir(mydir)   \n"
      ],
      "execution_count": 0,
      "outputs": []
    },
    {
      "cell_type": "code",
      "metadata": {
        "id": "1vlXMs9kqfcU",
        "colab_type": "code",
        "colab": {}
      },
      "source": [
        "# separate dataset to 3 class : testA, test B, train and its masks.\n",
        "testsetA = []\n",
        "testsetB = []\n",
        "trainset = []\n",
        "testmaskA = []\n",
        "testmaskB = []\n",
        "trainmask = []\n",
        "\n",
        "for allDir in pathDir:      \n",
        "    if allDir.startswith('testA')==True and allDir.endswith('anno.bmp')==True:     \n",
        "\n",
        "        testmaskA.append(allDir)\n",
        "        \n",
        "    if allDir.startswith('testA')==True and allDir.endswith('anno.bmp')==False:\n",
        "  \n",
        "        testsetA.append(allDir)\n",
        "\n",
        "    if allDir.startswith('testB')==True and allDir.endswith('anno.bmp')==True:\n",
        "       \n",
        "        testmaskB.append(allDir)\n",
        "\n",
        "    if allDir.startswith('testB')==True and allDir.endswith('anno.bmp')==False:\n",
        "\n",
        "        testsetB.append(allDir)\n",
        "\n",
        "    if allDir.startswith('train')==True and allDir.endswith('anno.bmp')==True:\n",
        "        \n",
        "        trainmask.append(allDir)\n",
        "\n",
        "    if allDir.startswith('train')==True and allDir.endswith('anno.bmp')==False:\n",
        "        \n",
        "        trainset.append(allDir)\n",
        "\n",
        "#Build new dataset root  \n",
        "\n",
        "raw_img_train_location = newdir+os.sep+'train'+os.sep+'raw'\n",
        "raw_img_testA_location = newdir+os.sep+'testA'+os.sep+'raw'\n",
        "raw_img_testB_location = newdir+os.sep+'testB'+os.sep+'raw'\n",
        "anno_img_train_location = newdir+os.sep+'train'+os.sep+'anno'\n",
        "anno_img_testA_location = newdir+os.sep+'testA'+os.sep+'anno'\n",
        "anno_img_testB_location = newdir+os.sep+'testB'+os.sep+'anno'\n",
        "\n",
        "\n",
        "if not os.path.isdir(raw_img_train_location):\n",
        "    os.makedirs(raw_img_train_location)\n",
        "if not os.path.isdir(raw_img_testA_location):\n",
        "    os.makedirs(raw_img_testA_location)\n",
        "if not os.path.isdir(raw_img_testB_location):\n",
        "    os.makedirs(raw_img_testB_location)\n",
        "\n",
        "if not os.path.isdir(anno_img_train_location):\n",
        "    os.makedirs(anno_img_train_location)\n",
        "if not os.path.isdir(anno_img_testA_location):\n",
        "    os.makedirs(anno_img_testA_location)\n",
        "if not os.path.isdir(anno_img_testB_location):\n",
        "    os.makedirs(anno_img_testB_location)\n",
        "\n",
        "def copy_img(path,list):\n",
        "    for i in range(len(list)):\n",
        "        new_obj_name = list[i]\n",
        "        shutil.copy(mydir+'/'+new_obj_name,path+'/'+new_obj_name)\n",
        "\n",
        "copy_img(raw_img_train_location,trainset)\n",
        "copy_img(raw_img_testA_location,testsetA) \n",
        "copy_img(raw_img_testB_location,testsetB)\n",
        "copy_img(anno_img_train_location,trainmask)\n",
        "copy_img(anno_img_testA_location,testmaskA)\n",
        "copy_img(anno_img_testB_location,testmaskB)\n",
        "    \n",
        "    "
      ],
      "execution_count": 0,
      "outputs": []
    },
    {
      "cell_type": "code",
      "metadata": {
        "id": "shydDJGFqfcZ",
        "colab_type": "code",
        "colab": {}
      },
      "source": [
        "# sort the dataset to make raw images and its masks are corresponding.\n",
        "\n",
        "def namesort(path,way):\n",
        "    # 0 for raw, 1 for anno\n",
        "    labelList = []  # 类标签列表\n",
        "    datasetList = listdir(path)\n",
        "    datasetload = []\n",
        "    if way==0:\n",
        "        list.sort(datasetList,key=lambda x: int(x[6:-4]))\n",
        "    else:\n",
        "        list.sort(datasetList,key=lambda x: int(x[6:-9]))\n",
        "    for i in range(len(datasetList)):\n",
        "        temp=imread(path+\"/\"+datasetList[i])\n",
        "        datasetload.append(temp)\n",
        "    return datasetList,datasetload\n",
        "\n",
        "(testsetA,testsetAraw) = namesort(raw_img_testA_location,0)\n",
        "(testmaskA,testmaskAanno) = namesort(anno_img_testA_location,1)\n",
        "(testsetB,testsetBraw) = namesort(raw_img_testB_location,0)\n",
        "(testmaskB,testmaskBanno) = namesort(anno_img_testB_location,1)\n",
        "(trainset,trainsetraw) = namesort(raw_img_train_location,0)\n",
        "(trainmask,trainmaskanno) = namesort(anno_img_train_location,1)\n",
        "\n",
        "\n"
      ],
      "execution_count": 0,
      "outputs": []
    },
    {
      "cell_type": "code",
      "metadata": {
        "id": "Ha7F6Kfnqfcf",
        "colab_type": "code",
        "colab": {}
      },
      "source": [
        "from skimage.transform import resize\n",
        "size = (400,400)\n",
        "X = [resize(x,size,mode='constant',anti_aliasing=True) for x in testsetAraw]\n",
        "Y = [resize(y,size,mode='constant',anti_aliasing=False) > 0.5 for y in testmaskAanno]\n",
        "Z = [resize(z,size,mode='constant',anti_aliasing=True) for z in testsetBraw]\n",
        "P = [resize(p,size,mode='constant',anti_aliasing=False) > 0.5 for p in testmaskBanno]\n"
      ],
      "execution_count": 0,
      "outputs": []
    },
    {
      "cell_type": "code",
      "metadata": {
        "id": "knl6eE7Iqfcj",
        "colab_type": "code",
        "colab": {}
      },
      "source": [
        "#crop images to get larger dataset.\n",
        "\n",
        "\n",
        "raw_img_train_cropped_location = newdir+os.sep+'train'+os.sep+'cropped'+os.sep+'raw'\n",
        "\n",
        "anno_img_train_cropped_location = newdir+os.sep+'train'+os.sep+'cropped'+os.sep+'anno'\n",
        "\n",
        "\n",
        "\n",
        "if not os.path.isdir(raw_img_train_cropped_location):\n",
        "    os.makedirs(raw_img_train_cropped_location)\n",
        "\n",
        "if not os.path.isdir(anno_img_train_cropped_location):\n",
        "    os.makedirs(anno_img_train_cropped_location)\n",
        "\n",
        "\n",
        "\n",
        "def crop_img(raw_picture,anno_picture,crop_size,path1,path2):\n",
        "    count =0\n",
        "    ##raw_picture：raw images, anno_picture:anno images，path1:raw path，path2:anno path\n",
        "    for i in range(len(raw_picture)):\n",
        "        for j in range(2):\n",
        "            raw_img = raw_picture[i]\n",
        "            anno_img = anno_picture[i]\n",
        "            x_shape = raw_img.shape[0]-crop_size\n",
        "            y_shape = raw_img.shape[1]-crop_size\n",
        "            x1 = random.randint(0,int(x_shape/2))\n",
        "            x2 = random.randint(int(x_shape/2),x_shape)\n",
        "            y1 = random.randint(0,int(y_shape/2))\n",
        "            y2 = random.randint(int(y_shape/2),y_shape)\n",
        "            if j == 0:\n",
        "                cropped_raw_img = raw_img[x1:x1+crop_size,:]\n",
        "                cropped_raw_img = cropped_raw_img[:,y1:y1+crop_size]\n",
        "                cropped_anno_img = anno_img[x1:x1+crop_size,:]\n",
        "                cropped_anno_img = cropped_anno_img[:,y1:y1+crop_size]\n",
        "            else:\n",
        "                cropped_raw_img = raw_img[x2:x2+crop_size,:]\n",
        "                cropped_raw_img = cropped_raw_img[:,y2:y2+crop_size]\n",
        "                cropped_anno_img = anno_img[x2:x2+crop_size,:]\n",
        "                cropped_anno_img = cropped_anno_img[:,y2:y2+crop_size]\n",
        "            if cropped_anno_img.shape[0]!=400 or cropped_anno_img.shape[1]!=400:\n",
        "                print('error')\n",
        "            count = count+1\n",
        "            Image.fromarray(cropped_raw_img).save(path1+os.sep+str(count)+'.png')\n",
        "            Image.fromarray(cropped_anno_img).save(path2+os.sep+str(count)+'.png')\n",
        "    \n",
        "    list1 = os.listdir(path1)\n",
        "    list2 = os.listdir(path2)\n",
        "    \n",
        "    return list1,list2 \n",
        "\n",
        "\n",
        "[trainset,trainmask]=crop_img(trainsetraw,trainmaskanno,400,raw_img_train_cropped_location,anno_img_train_cropped_location)\n"
      ],
      "execution_count": 0,
      "outputs": []
    },
    {
      "cell_type": "code",
      "metadata": {
        "id": "ztkPmc3Wqfcm",
        "colab_type": "code",
        "colab": {}
      },
      "source": [
        "#IMAGE AUGMENTATION \n",
        "transform = transforms.Compose(\n",
        "    [transforms.ToTensor()]\n",
        ")\n",
        "\n",
        "\n",
        "\n",
        "def batch_generator(Type,img_list, anno_list, batch_size, num_of_classes=2,transform=transform):\n",
        "    images=[]\n",
        "    annos=[]\n",
        "    for i in range(batch_size):\n",
        "\n",
        "        rand_int = int(np.random.choice(len(img_list)-1,size=1,replace=False))\n",
        "\n",
        "        if Type=='train':\n",
        "            img = np.array(Image.open(img_list[rand_int]))\n",
        "            anno = np.array(Image.open(anno_list[rand_int]).convert(\"L\"))\n",
        "            img=transform(img)\n",
        "        if Type=='test':\n",
        "            img=img_list[rand_int]\n",
        "            anno=anno_list[rand_int]\n",
        "        img=np.array(img)\n",
        "        images.append(img)\n",
        "        anno[anno>0] = 1\n",
        "        anno_reshaped = np.zeros((anno.shape[0], anno.shape[1], num_of_classes))\n",
        "    \n",
        "        for i in range(num_of_classes):\n",
        "\n",
        "            anno_reshaped[:, :, i][anno == i] = 1\n",
        "        \n",
        "        annos.append(anno_reshaped)\n",
        "#    print(images[0].shape)\n",
        "#    print(len(images))\n",
        "    images=np.array(images)\n",
        "    annos=np.array(annos)\n",
        "\n",
        "\n",
        "    return images, annos\n",
        "    \n",
        "    \n",
        "\n",
        "path_to_images = newdir+'/train/cropped/raw'\n",
        "path_to_annotations = newdir+'/train/cropped/anno'\n",
        "img_list = sorted(trainset)\n",
        "anno_list = sorted(trainmask)\n",
        "img_list = glob.glob(path_to_images+os.sep+\"*.png\")\n",
        "anno_list = glob.glob(path_to_annotations+os.sep+\"*.png\")\n",
        "\n",
        "\n",
        "\n",
        "\n",
        "batch_size=5\n",
        "images, annos = batch_generator('train',img_list, anno_list,batch_size,2,transform)"
      ],
      "execution_count": 0,
      "outputs": []
    },
    {
      "cell_type": "code",
      "metadata": {
        "id": "tNg5yzvqqfcq",
        "colab_type": "code",
        "colab": {
          "base_uri": "https://localhost:8080/",
          "height": 275
        },
        "outputId": "7a52b08e-77a5-4af3-cda1-53891c2decc3"
      },
      "source": [
        "images = torch.from_numpy(images)\n",
        "print(images.shape)\n",
        "\n",
        "for k in range(batch_size):\n",
        "    \n",
        "    imshow = images.permute(0,2,3,1)\n",
        "    plt.subplot(3, 5, k+1)\n",
        "    plt.imshow(imshow[k,:,:,:])\n",
        "    plt.title('image')\n",
        "    plt.subplot(3, 5, k+6)\n",
        "    plt.imshow(annos[k,:,:,0])\n",
        "    plt.title('annos1')\n",
        "    plt.axis('off')\n",
        "    plt.subplot(3, 5, k+11)\n",
        "    plt.imshow(annos[k,:,:,1])\n",
        "    plt.title('annos2')\n",
        "    plt.axis('off')"
      ],
      "execution_count": 13,
      "outputs": [
        {
          "output_type": "stream",
          "text": [
            "torch.Size([5, 3, 400, 400])\n"
          ],
          "name": "stdout"
        },
        {
          "output_type": "display_data",
          "data": {
            "image/png": "[encoded data removed]",
            "text/plain": [
              "<Figure size 432x288 with 15 Axes>"
            ]
          },
          "metadata": {
            "tags": []
          }
        }
      ]
    },
    {
      "cell_type": "code",
      "metadata": {
        "scrolled": false,
        "id": "4UtdgV5Rqfct",
        "colab_type": "code",
        "colab": {
          "base_uri": "https://localhost:8080/",
          "height": 52
        },
        "outputId": "228c725f-7017-4e32-945c-90a82826c5d4"
      },
      "source": [
        "#check batch and show some data\n",
        "\n",
        "#images = torch.from_numpy(images)\n",
        "annos = torch.from_numpy(annos)\n",
        "annos = annos.permute(0,3,1,2)\n",
        "print(images.shape)\n",
        "print(annos.shape)\n",
        "\n",
        "\n",
        "# plt.imshow(images[1,:,:,:])\n",
        "# plt.imshow()\n",
        "# plt.imshow(images[1,:,:,:])\n",
        "\n",
        "\n"
      ],
      "execution_count": 14,
      "outputs": [
        {
          "output_type": "stream",
          "text": [
            "torch.Size([5, 3, 400, 400])\n",
            "torch.Size([5, 2, 400, 400])\n"
          ],
          "name": "stdout"
        }
      ]
    },
    {
      "cell_type": "code",
      "metadata": {
        "id": "W9YVvlrQqfcw",
        "colab_type": "code",
        "colab": {}
      },
      "source": [
        "\n",
        "class SegNet(nn.Module):\n",
        "    def __init__(self):\n",
        "        super().__init__()\n",
        "\n",
        "        # encoder (downsampling)\n",
        "        self.enc_conv0 = nn.Conv2d(3, 64, 3, padding=1)\n",
        "        self.bn0=nn.BatchNorm2d(64)\n",
        "        self.pool0 = nn.MaxPool2d(3, 2, padding=1)  # 256 -> 128\n",
        "        self.enc_conv1 = nn.Conv2d(64, 64, 3, padding=1)\n",
        "        self.bn1=nn.BatchNorm2d(64)\n",
        "        self.pool1 = nn.MaxPool2d(3, 2, padding=1)  # 128 -> 64\n",
        "        self.enc_conv2 = nn.Conv2d(64, 64, 3, padding=1)\n",
        "        self.bn2=nn.BatchNorm2d(64)\n",
        "        self.pool2 = nn.MaxPool2d(3, 2, padding=1)  # 64 -> 32\n",
        "        self.enc_conv3 = nn.Conv2d(64, 64, 3, padding=1)\n",
        "        self.bn3=nn.BatchNorm2d(64)\n",
        "        self.pool3 = nn.MaxPool2d(3, 2, padding=1)  # 32 -> 16\n",
        "\n",
        "        # bottleneck\n",
        "        self.bottleneck_conv = nn.Conv2d(64, 64, 3, padding=1)\n",
        "\n",
        "        # decoder (upsampling)\n",
        "        self.upsample0 = nn.Upsample(32)  # 16 -> 32\n",
        "        self.dec_conv0 = nn.Conv2d(64, 64, 3, padding=1)\n",
        "        self.bn_dec0=nn.BatchNorm2d(64)\n",
        "        self.upsample1 = nn.Upsample(64)  # 32 -> 64\n",
        "        self.dec_conv1 = nn.Conv2d(64, 64, 3, padding=1)\n",
        "        self.bn_dec1=nn.BatchNorm2d(64)\n",
        "        self.upsample2 = nn.Upsample(128)  # 64 -> 128\n",
        "        self.dec_conv2 = nn.Conv2d(64, 64, 3, padding=1)\n",
        "        self.bn_dec2=nn.BatchNorm2d(64)\n",
        "        self.upsample3 = nn.Upsample(400)  # 128 -> 256\n",
        "        self.dec_conv3 = nn.Conv2d(64, 2, 3, padding=1)\n",
        "        self.bn_dec3=nn.BatchNorm2d(64)\n",
        "    def forward(self, x):\n",
        "        # encoder\n",
        "        e0 = self.pool0(F.relu(self.bn0(self.enc_conv0(x))))\n",
        "        e1 = self.pool1(F.relu(self.bn1(self.enc_conv1(e0))))\n",
        "        e2 = self.pool2(F.relu(self.bn2(self.enc_conv2(e1))))\n",
        "        e3 = self.pool3(F.relu(self.bn3(self.enc_conv3(e2))))\n",
        "\n",
        "        # bottleneck\n",
        "        b = F.relu(self.bottleneck_conv(e3))\n",
        "\n",
        "        # decoder\n",
        "        d0 = F.relu(self.dec_conv0(self.bn_dec0(self.upsample0(b))))\n",
        "        d1 = F.relu(self.dec_conv1(self.bn_dec1(self.upsample1(d0))))\n",
        "        d2 = F.relu(self.dec_conv2(self.bn_dec2(self.upsample2(d1))))\n",
        "        d3 = self.dec_conv3(self.bn_dec3(self.upsample3(d2)) ) # no activation\n",
        "        d3 = torch.softmax(d3,dim=1)\n",
        "        return d3\n",
        "    \n",
        "    "
      ],
      "execution_count": 0,
      "outputs": []
    },
    {
      "cell_type": "code",
      "metadata": {
        "id": "DHazXnESqfcy",
        "colab_type": "code",
        "colab": {
          "base_uri": "https://localhost:8080/",
          "height": 489
        },
        "outputId": "6ed71edd-d157-4e35-8219-9a9d904a7266"
      },
      "source": [
        "net=SegNet()\n",
        "print(net)"
      ],
      "execution_count": 16,
      "outputs": [
        {
          "output_type": "stream",
          "text": [
            "SegNet(\n",
            "  (enc_conv0): Conv2d(3, 64, kernel_size=(3, 3), stride=(1, 1), padding=(1, 1))\n",
            "  (bn0): BatchNorm2d(64, eps=1e-05, momentum=0.1, affine=True, track_running_stats=True)\n",
            "  (pool0): MaxPool2d(kernel_size=3, stride=2, padding=1, dilation=1, ceil_mode=False)\n",
            "  (enc_conv1): Conv2d(64, 64, kernel_size=(3, 3), stride=(1, 1), padding=(1, 1))\n",
            "  (bn1): BatchNorm2d(64, eps=1e-05, momentum=0.1, affine=True, track_running_stats=True)\n",
            "  (pool1): MaxPool2d(kernel_size=3, stride=2, padding=1, dilation=1, ceil_mode=False)\n",
            "  (enc_conv2): Conv2d(64, 64, kernel_size=(3, 3), stride=(1, 1), padding=(1, 1))\n",
            "  (bn2): BatchNorm2d(64, eps=1e-05, momentum=0.1, affine=True, track_running_stats=True)\n",
            "  (pool2): MaxPool2d(kernel_size=3, stride=2, padding=1, dilation=1, ceil_mode=False)\n",
            "  (enc_conv3): Conv2d(64, 64, kernel_size=(3, 3), stride=(1, 1), padding=(1, 1))\n",
            "  (bn3): BatchNorm2d(64, eps=1e-05, momentum=0.1, affine=True, track_running_stats=True)\n",
            "  (pool3): MaxPool2d(kernel_size=3, stride=2, padding=1, dilation=1, ceil_mode=False)\n",
            "  (bottleneck_conv): Conv2d(64, 64, kernel_size=(3, 3), stride=(1, 1), padding=(1, 1))\n",
            "  (upsample0): Upsample(size=32, mode=nearest)\n",
            "  (dec_conv0): Conv2d(64, 64, kernel_size=(3, 3), stride=(1, 1), padding=(1, 1))\n",
            "  (bn_dec0): BatchNorm2d(64, eps=1e-05, momentum=0.1, affine=True, track_running_stats=True)\n",
            "  (upsample1): Upsample(size=64, mode=nearest)\n",
            "  (dec_conv1): Conv2d(64, 64, kernel_size=(3, 3), stride=(1, 1), padding=(1, 1))\n",
            "  (bn_dec1): BatchNorm2d(64, eps=1e-05, momentum=0.1, affine=True, track_running_stats=True)\n",
            "  (upsample2): Upsample(size=128, mode=nearest)\n",
            "  (dec_conv2): Conv2d(64, 64, kernel_size=(3, 3), stride=(1, 1), padding=(1, 1))\n",
            "  (bn_dec2): BatchNorm2d(64, eps=1e-05, momentum=0.1, affine=True, track_running_stats=True)\n",
            "  (upsample3): Upsample(size=400, mode=nearest)\n",
            "  (dec_conv3): Conv2d(64, 2, kernel_size=(3, 3), stride=(1, 1), padding=(1, 1))\n",
            "  (bn_dec3): BatchNorm2d(64, eps=1e-05, momentum=0.1, affine=True, track_running_stats=True)\n",
            ")\n"
          ],
          "name": "stdout"
        }
      ]
    },
    {
      "cell_type": "code",
      "metadata": {
        "id": "5nkXmq4Wqfc1",
        "colab_type": "code",
        "colab": {
          "base_uri": "https://localhost:8080/",
          "height": 34
        },
        "outputId": "5cada490-272b-4da2-e87d-ff926491637d"
      },
      "source": [
        "import torch.optim as optim\n",
        "\n",
        "criterion = nn.BCELoss() \n",
        "\n",
        "optimizer = optim.Adam(net.parameters(), lr=0.001)\n",
        "\n",
        "#def bce_loss(y_real, y_pred):\n",
        "#    return torch.mean(y_pred - y_real*y_pred + torch.log(1 + torch.exp(-y_pred)))\n",
        "print(net.parameters())"
      ],
      "execution_count": 17,
      "outputs": [
        {
          "output_type": "stream",
          "text": [
            "<generator object Module.parameters at 0x7f92716aca98>\n"
          ],
          "name": "stdout"
        }
      ]
    },
    {
      "cell_type": "code",
      "metadata": {
        "id": "W3Kghq93qfc3",
        "colab_type": "code",
        "colab": {
          "base_uri": "https://localhost:8080/",
          "height": 294
        },
        "outputId": "c28d7415-bb20-49ef-ccdb-a28083d0a9b7"
      },
      "source": [
        "num_epoch = 1 \n",
        "steps=10\n",
        "\n",
        "# steps = 3 \n",
        "for epoch in range(num_epoch):  \n",
        "    running_loss = 0.0\n",
        "    avg_loss=0.0\n",
        "    print('* Epoch %d/%d' % (epoch+1, num_epoch))\n",
        "    net.train()\n",
        "    for step in range(steps):\n",
        "        images, annos = batch_generator('train',img_list, anno_list,batch_size, 2)\n",
        "        images = torch.from_numpy(images)\n",
        "        annos = torch.from_numpy(annos)\n",
        "        annos = annos.float()\n",
        "        annos = annos.permute(0,3,1,2)\n",
        "        optimizer.zero_grad()\n",
        "        outputs = net(images)\n",
        "      \n",
        "    \n",
        "        loss = criterion(outputs, annos)\n",
        "        loss.backward()\n",
        "        optimizer.step()\n",
        "        running_loss += loss.data \n",
        "\n",
        "        if step < 34:   \n",
        "            print('[%d, %5d] loss: %.3f' %\n",
        "                  (epoch + 1, step + 1, running_loss / batch_size))\n",
        "        running_loss = 0.0\n",
        "        avg_loss += loss / steps\n",
        "    print(' -- loss: %f' % avg_loss)       \n",
        "\n",
        "    \n",
        "\n",
        "    Y_hat = net(images).detach().cpu()\n",
        "    clear_output(wait=True)\n",
        "    imshow=annos.permute(0,2,3,1)\n",
        "    outshow=Y_hat.permute(0,2,3,1)\n",
        "    \n",
        "    for k in range(3):\n",
        "        plt.subplot(3, 3, k+1)\n",
        "        plt.imshow(imshow[k,:,:,0])\n",
        "        plt.title('Real')\n",
        "        plt.axis('off')\n",
        "\n",
        "        plt.subplot(3, 3, k+4)\n",
        "        plt.imshow(outshow[k,:,:,0].detach().numpy(), cmap='gray')\n",
        "        plt.title('Output1')\n",
        "        plt.axis('off')\n",
        "        \n",
        "        plt.subplot(3,3,k+7)\n",
        "        plt.imshow(outshow[k,:,:,1].detach().numpy(), cmap='gray')\n",
        "        plt.title('Output2')\n",
        "        plt.axis('off')\n",
        "    plt.suptitle('%d / %d - loss: %f' % (epoch+1, num_epoch, avg_loss))\n",
        "    plt.show()\n",
        "print('Finished Training')"
      ],
      "execution_count": 20,
      "outputs": [
        {
          "output_type": "display_data",
          "data": {
            "image/png": "[encoded data removed]",
            "text/plain": [
              "<Figure size 432x288 with 9 Axes>"
            ]
          },
          "metadata": {
            "tags": []
          }
        },
        {
          "output_type": "stream",
          "text": [
            "Finished Training\n"
          ],
          "name": "stdout"
        }
      ]
    },
    {
      "cell_type": "code",
      "metadata": {
        "id": "qrPnPDL9qfc6",
        "colab_type": "code",
        "colab": {}
      },
      "source": [
        "# net.zero_grad()\n",
        "# for p in net.parameters():\n",
        "#     print('data',p.data)\n",
        "#     print('grad',p.grad)\n"
      ],
      "execution_count": 0,
      "outputs": []
    },
    {
      "cell_type": "code",
      "metadata": {
        "id": "1ZR0E6nTqfc8",
        "colab_type": "code",
        "colab": {}
      },
      "source": [
        "path_to_testA = newdir+'/testA/raw'\n",
        "path_to_annoA = newdir+'/testA/anno'\n",
        "path_to_testB = newdir+'/testB/raw'\n",
        "path_to_annoB = newdir+'/testB/anno'\n",
        "\n",
        "(testsetA,testsetAraw) = namesort(path_to_testA,0)\n",
        "(testmaskA,testmaskAanno) = namesort(path_to_annoA,1)\n",
        "(testsetB,testsetBraw) = namesort(path_to_testB,0)\n",
        "(testmaskB,testmaskBanno) = namesort(path_to_annoB,1)\n",
        "\n",
        "for i in range(len(testsetA)):\n",
        "    testsetA[i]=path_to_testA+os.sep+testsetA[i]\n",
        "\n",
        "for i in range(len(testmaskA)):\n",
        "    testmaskA[i]=path_to_annoA+os.sep+testmaskA[i]\n"
      ],
      "execution_count": 0,
      "outputs": []
    },
    {
      "cell_type": "code",
      "metadata": {
        "id": "6v0HhRMEqfc_",
        "colab_type": "code",
        "colab": {
          "base_uri": "https://localhost:8080/",
          "height": 34
        },
        "outputId": "f86d4d6f-a5d9-465c-9524-87df659782cf"
      },
      "source": [
        "# print(testsetAraw[0].shape)\n",
        "X=np.array(X)\n",
        "print(X.shape)\n",
        "X = torch.from_numpy(X)\n",
        "X = X.float()\n",
        "X = X.permute(0,3,1,2)\n",
        "predicition=net(X)\n",
        "print(len(predicition))\n"
      ],
      "execution_count": 0,
      "outputs": [
        {
          "output_type": "stream",
          "text": [
            "(60, 400, 400, 3)\n"
          ],
          "name": "stdout"
        }
      ]
    },
    {
      "cell_type": "code",
      "metadata": {
        "id": "RC1fyKzDqfdB",
        "colab_type": "code",
        "colab": {}
      },
      "source": [
        "from PIL import Image\n",
        "\n",
        "import numpy as np\n",
        "\n",
        "from sklearn.metrics import f1_score\n",
        "\n",
        "import glob\n",
        "\n",
        "import os\n",
        "\n",
        "\n",
        "\n",
        "\n",
        "\n",
        "class ColorChange:\n",
        "\n",
        "    def __init__(self):\n",
        "\n",
        "        self.colors = {\n",
        "\n",
        "            'background': [0, 0, 0, 0],\n",
        "\n",
        "            'black': [0, 0, 0, 255],  # Cell - Gland\n",
        "\n",
        "#             'green': [0, 255, 0, 255],  # Crop - Brazil\n",
        "\n",
        "#             'yellow': [255, 255, 0, 255],  # Weed - Brazil\n",
        "\n",
        "#             'gray': [128, 128, 128, 255], # Weed - Eskild\n",
        "\n",
        "#             'white': [255, 255, 255, 255], # Crop - Eskild\n",
        "\n",
        "        }\n",
        "\n",
        "\n",
        "\n",
        "    def rgba_to_mask(self, img):\n",
        "\n",
        "        ''' Input (H,W,4), output (H,W) '''\n",
        "\n",
        "        mask = np.zeros([img.shape[0], img.shape[1]], dtype=np.uint8)\n",
        "\n",
        "        for i, color_value in enumerate(list(self.colors.values())):\n",
        "\n",
        "            mask[np.sum(img == color_value, axis=2) == 4] = i\n",
        "\n",
        "        return mask\n",
        "\n",
        "\n",
        "\n",
        "project = 'gland_images'\n",
        "\n",
        "dataset = 'gland'\n",
        "\n",
        "\n",
        "\n",
        "annotations_path = os.getcwd()+os.sep+project+os.sep+dataset+'/test/annotations'\n",
        "\n",
        "predictions_path = os.getcwd()+os.sep+project+os.sep+dataset+'/test/predictions'\n",
        "\n",
        "score_path = os.getcwd()+os.sep+project+os.sep+dataset\n",
        "\n",
        "\n",
        "\n",
        "annotations_list = sorted(glob.glob(annotations_path+'/*.png'))\n",
        "\n",
        "predictions_list = sorted(glob.glob(predictions_path+'/*.png'))\n",
        "\n",
        "\n",
        "\n",
        "f1 = 0\n",
        "\n",
        "\n",
        "\n",
        "for idx in range(len(predictions_list)):\n",
        "\n",
        "    anno = Image.open(annotations_list[idx]).convert('RGBA')\n",
        "\n",
        "    anno = np.uint8(anno)\n",
        "\n",
        "    anno = ColorChange().rgba_to_mask(anno)\n",
        "\n",
        "    pred = Image.open(predictions_list[idx]).convert('RGBA')\n",
        "\n",
        "    pred = np.uint8(pred)\n",
        "\n",
        "    pred = ColorChange().rgba_to_mask(pred)\n",
        "\n",
        "    for classes in np.unique(anno):\n",
        "\n",
        "        if classes == 0:\n",
        "\n",
        "            continue\n",
        "\n",
        "    y_pred = (pred==classes)*1\n",
        "\n",
        "    y_true = (anno==classes)*1\n",
        "\n",
        "    f1 += f1_score(y_true.reshape(-1), y_pred.reshape(-1), average='macro')\n",
        "\n",
        "\n",
        "\n",
        "f1 /= len(predictions_list)\n",
        "\n",
        "f = open(score_path+\"/f1_score.txt\", \"w\")\n",
        "\n",
        "f.write(\"The f1 score is : {0}\".format(f1))\n",
        "\n",
        "f.close()\n",
        "\n",
        "\n",
        "\n",
        "print(\"F1 score for {0} is {1}\".format(dataset, f1))"
      ],
      "execution_count": 0,
      "outputs": []
    }
  ]
}