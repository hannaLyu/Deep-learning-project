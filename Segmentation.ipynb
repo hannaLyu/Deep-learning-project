{
 "cells": [
  {
   "cell_type": "code",
   "execution_count": 2,
   "metadata": {},
   "outputs": [],
   "source": [
    "#import wget\n",
    "import os\n",
    "import glob\n",
    "import random\n",
    "import numpy as np\n",
    "import os,shutil\n",
    "import matplotlib \n",
    "import matplotlib.pyplot as plt\n",
    "from PIL import Image\n",
    "from skimage.io import imread"
   ]
  },
  {
   "cell_type": "code",
   "execution_count": 3,
   "metadata": {},
   "outputs": [],
   "source": [
    "mydir = r'C:\\\\Users\\\\炸酱面\\\\Downloads\\\\project\\\\warwick_qu_dataset_released_2016_07_08\\\\Warwick QU Dataset (Released 2016_07_08)'"
   ]
  },
  {
   "cell_type": "code",
   "execution_count": 4,
   "metadata": {},
   "outputs": [],
   "source": [
    "#get dataset\n",
    "newdir = os.getcwd()\n",
    "raw_img_train_location = newdir+os.sep+'train'+os.sep+'raw'\n",
    "raw_img_testA_location = newdir+os.sep+'testA'+os.sep+'raw'\n",
    "raw_img_testB_location = newdir+os.sep+'testB'+os.sep+'raw'\n",
    "anno_img_train_location = newdir+os.sep+'train'+os.sep+'anno'\n",
    "anno_img_testA_location = newdir+os.sep+'testA'+os.sep+'anno'\n",
    "anno_img_testB_location = newdir+os.sep+'testB'+os.sep+'anno'\n",
    "\n",
    "if not os.path.isdir(raw_img_train_location):\n",
    "    os.makedirs(raw_img_train_location)\n",
    "if not os.path.isdir(raw_img_testA_location):\n",
    "    os.makedirs(raw_img_testA_location)\n",
    "if not os.path.isdir(raw_img_testB_location):\n",
    "    os.makedirs(raw_img_testB_location)\n",
    "\n",
    "if not os.path.isdir(anno_img_train_location):\n",
    "    os.makedirs(anno_img_train_location)\n",
    "if not os.path.isdir(anno_img_testA_location):\n",
    "    os.makedirs(anno_img_testA_location)\n",
    "if not os.path.isdir(anno_img_testB_location):\n",
    "    os.makedirs(anno_img_testB_location)\n",
    "\n",
    "\n",
    "testsetA = []\n",
    "testsetB = []\n",
    "trainset = []\n",
    "testmaskA = []\n",
    "testmaskB = []\n",
    "trainmask = []\n",
    "\n",
    "testsetA2 = []\n",
    "testsetB2 = []\n",
    "trainset2 = []\n",
    "testmaskA2 = []\n",
    "testmaskB2 = []\n",
    "trainmask2 = []\n",
    "\n",
    "\n",
    "pathDir =  os.listdir(mydir)    \n",
    "\n",
    "\n",
    "for allDir in pathDir:      \n",
    "    if allDir.startswith('testA')==True and allDir.endswith('anno.bmp')==True:     \n",
    "        maskA=imread(mydir+\"\\\\\"+ allDir)\n",
    "        testmaskA.append(maskA)\n",
    "        testmaskA2.append(allDir)\n",
    "        \n",
    "\n",
    "\n",
    "    if allDir.startswith('testA')==True and allDir.endswith('anno.bmp')==False:\n",
    "        testA=imread(mydir+\"\\\\\"+allDir)\n",
    "        testsetA.append(testA)\n",
    "        testsetA2.append(allDir)\n",
    "\n",
    "    if allDir.startswith('testB')==True and allDir.endswith('anno.bmp')==True:\n",
    "        maskB=imread(mydir+\"\\\\\"+allDir)\n",
    "        \n",
    "        testmaskB.append(maskB)\n",
    "        testmaskB2.append(allDir)\n",
    "\n",
    "    if allDir.startswith('testB')==True and allDir.endswith('anno.bmp')==False:\n",
    "        testB=imread(mydir+\"\\\\\"+allDir)\n",
    "        \n",
    "        testsetB.append(testB)\n",
    "        testsetB2.append(allDir)\n",
    "\n",
    "    if allDir.startswith('train')==True and allDir.endswith('anno.bmp')==True:\n",
    "        mask=imread(mydir+\"\\\\\"+allDir)\n",
    "        \n",
    "        trainmask.append(mask)\n",
    "        trainmask2.append(allDir)\n",
    "\n",
    "    if allDir.startswith('train')==True and allDir.endswith('anno.bmp')==False:\n",
    "        train=imread(mydir+\"\\\\\"+allDir)\n",
    " \n",
    "        trainset.append(train)\n",
    "        trainset2.append(allDir)\n",
    "\n",
    "\n",
    "    \n",
    "def copy_img(path,list):\n",
    "    for i in range(len(list)):\n",
    "        new_obj_name = list[i]\n",
    "        shutil.copy(mydir+'\\\\'+new_obj_name,path+'\\\\'+new_obj_name)\n",
    " \n",
    " \n",
    "\n",
    "copy_img(raw_img_train_location,trainset2)\n",
    "copy_img(raw_img_testA_location,testsetA2) \n",
    "copy_img(raw_img_testB_location,testsetB2)\n",
    "copy_img(anno_img_train_location,trainmask2)\n",
    "copy_img(anno_img_testA_location,testmaskA2)\n",
    "copy_img(anno_img_testB_location,testmaskB2)\n",
    "\n"
   ]
  },
  {
   "cell_type": "code",
   "execution_count": 69,
   "metadata": {},
   "outputs": [
    {
     "name": "stdout",
     "output_type": "stream",
     "text": [
      "(64,)\n",
      "(64,)\n"
     ]
    }
   ],
   "source": [
    "batch_size=64\n",
    "\n",
    "def batch_generator(img_list, anno_list, batch_size, num_of_classes=2):\n",
    "    images=[]\n",
    "    annos=[]\n",
    "    #Get random image\n",
    "    for i in range(batch_size):\n",
    "        rand_int = random.randint(0, len(img_list)-1)\n",
    "        img = np.array(Image.open(img_list[rand_int]))\n",
    "        images.append(img)\n",
    "        anno = np.array(Image.open(anno_list[rand_int]).convert(\"L\"))\n",
    "        anno[anno>0] = 1\n",
    "        anno_reshaped = np.zeros((anno.shape[0], anno.shape[1], num_of_classes))\n",
    "        \n",
    "\n",
    "\n",
    "    #IMAGE AUGMENTATION SHOULD HAPPEN HERE.\n",
    "\n",
    "    #EXAMPLES : RANDOM CROPPING, RANDOM FLIPPING\n",
    "\n",
    "    #MIRRORING, ZOOMING, MEAN SUBTRACTION AND STD DIVISION.\n",
    "\n",
    "\n",
    "\n",
    "        for i in range(num_of_classes):\n",
    "\n",
    "            anno_reshaped[:, :, i][anno == i] = 1\n",
    "        \n",
    "        annos.append(anno_reshaped)\n",
    "        \n",
    "    images=np.array(images)\n",
    "    annos=np.array(annos)\n",
    "\n",
    "    return images, annos\n",
    "    \n",
    "    \n",
    "\n",
    "\n",
    "#Gland images are bmp, my corrosponding annotations are converted pngs.\n",
    "\n",
    "\n",
    "\n",
    "path_to_images = 'C:\\\\Users\\\\炸酱面\\\\Downloads\\\\project\\\\train\\\\raw'\n",
    "\n",
    "path_to_annotations = 'C:\\\\Users\\\\炸酱面\\\\Downloads\\\\project\\\\train\\\\anno'\n",
    "\n",
    "img_list = glob.glob(path_to_images+os.sep+\"*.bmp\")\n",
    "\n",
    "img_list = sorted(img_list)\n",
    "\n",
    "anno_list = glob.glob(path_to_annotations+os.sep+\"*.bmp\")\n",
    "\n",
    "anno_list = sorted(anno_list)\n",
    "\n",
    "\n",
    "\n",
    "\n",
    "img, anno = batch_generator(img_list, anno_list,batch_size, 2)\n",
    "\n",
    "#Please note, if done correctly, you should not be able to view your raw image directly\n",
    "\n",
    "#with matplotlib due to the subtraction of the mean, and pil not understanding floats.\n",
    "print(img.shape)\n",
    "print(anno.shape)\n"
   ]
  },
  {
   "cell_type": "code",
   "execution_count": 72,
   "metadata": {},
   "outputs": [
    {
     "data": {
      "text/plain": [
       "<matplotlib.image.AxesImage at 0x1f580c75cf8>"
      ]
     },
     "execution_count": 72,
     "metadata": {},
     "output_type": "execute_result"
    },
    {
     "data": {
      "image/png": "[encoded data removed]",
      "text/plain": [
       "<Figure size 432x288 with 1 Axes>"
      ]
     },
     "metadata": {
      "needs_background": "light"
     },
     "output_type": "display_data"
    }
   ],
   "source": [
    "plt.imshow(anno[1][:, :, 0])\n",
    "\n",
    "plt.imshow(anno[1][:, :, 1])"
   ]
  },
  {
   "cell_type": "code",
   "execution_count": null,
   "metadata": {},
   "outputs": [],
   "source": []
  }
 ],
 "metadata": {
  "kernelspec": {
   "display_name": "Python 3",
   "language": "python",
   "name": "python3"
  },
  "language_info": {
   "codemirror_mode": {
    "name": "ipython",
    "version": 3
   },
   "file_extension": ".py",
   "mimetype": "text/x-python",
   "name": "python",
   "nbconvert_exporter": "python",
   "pygments_lexer": "ipython3",
   "version": "3.7.3"
  }
 },
 "nbformat": 4,
 "nbformat_minor": 2
}
